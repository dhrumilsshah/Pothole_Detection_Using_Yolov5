{
 "cells": [
  {
   "cell_type": "code",
   "execution_count": null,
   "id": "d6d93e1a",
   "metadata": {},
   "outputs": [],
   "source": [
    "import torch\n",
    "from IPython.display import Image\n",
    "import os"
   ]
  },
  {
   "cell_type": "code",
   "execution_count": null,
   "id": "0de10c41",
   "metadata": {},
   "outputs": [],
   "source": [
    "trainimagePath = 'C:\\Users\\027972839\\Downloads\\Spring_22\\CECS_553_Machine_Vision\\Reports\\Project\\Pothole_data\\train\\images'\n",
    "\n",
    "trainlabelPath = 'C:\\Users\\027972839\\Downloads\\Spring_22\\CECS_553_Machine_Vision\\Reports\\Project\\Pothole_data\\train\\labels'\n",
    "\n",
    "validimagePath = 'C:\\Users\\027972839\\Downloads\\Spring_22\\CECS_553_Machine_Vision\\Reports\\Project\\Pothole_data\\valid\\images'\n",
    "\n",
    "validlabelPath = 'C:\\Users\\027972839\\Downloads\\Spring_22\\CECS_553_Machine_Vision\\Reports\\Project\\Pothole_data\\valid\\labels'\n"
   ]
  },
  {
   "cell_type": "code",
   "execution_count": null,
   "id": "a996040b",
   "metadata": {},
   "outputs": [],
   "source": [
    "python train.py --img 415 --batch 16 --epochs 30 --data dataset.yaml --weights yolov5s.pt --cache"
   ]
  }
 ],
 "metadata": {
  "kernelspec": {
   "display_name": "Python 3 (ipykernel)",
   "language": "python",
   "name": "python3"
  },
  "language_info": {
   "codemirror_mode": {
    "name": "ipython",
    "version": 3
   },
   "file_extension": ".py",
   "mimetype": "text/x-python",
   "name": "python",
   "nbconvert_exporter": "python",
   "pygments_lexer": "ipython3",
   "version": "3.10.4"
  }
 },
 "nbformat": 4,
 "nbformat_minor": 5
}
